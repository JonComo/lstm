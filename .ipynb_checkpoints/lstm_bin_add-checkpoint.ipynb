{
 "cells": [
  {
   "cell_type": "code",
   "execution_count": null,
   "metadata": {
    "collapsed": true
   },
   "outputs": [],
   "source": [
    "%matplotlib inline"
   ]
  },
  {
   "cell_type": "code",
   "execution_count": null,
   "metadata": {
    "collapsed": true
   },
   "outputs": [],
   "source": [
    "from matplotlib import pyplot as plt\n",
    "import numpy as np\n",
    "from ipywidgets import interact\n",
    "from IPython.display import clear_output\n",
    "\n",
    "import lstm\n",
    "\n",
    "np.set_printoptions(precision=5, suppress=True)"
   ]
  },
  {
   "cell_type": "code",
   "execution_count": null,
   "metadata": {
    "collapsed": false
   },
   "outputs": [],
   "source": [
    "X_DIM = 2\n",
    "H_DIM = 3\n",
    "C_DIM = H_DIM\n",
    "Y_DIM = 1\n",
    "\n",
    "TIME_STEPS = 5\n",
    "\n",
    "net = lstm.LSTMNetwork(x_dim=X_DIM, \n",
    "                       h_dim=H_DIM, \n",
    "                       y_dim=Y_DIM, \n",
    "                       c_dim=C_DIM, \n",
    "                       time_steps=TIME_STEPS, \n",
    "                       act=None, \n",
    "                       act_p=None)"
   ]
  },
  {
   "cell_type": "code",
   "execution_count": null,
   "metadata": {
    "collapsed": false
   },
   "outputs": [],
   "source": [
    "def data(n=10):\n",
    "    num1 = np.random.randint(0, 2, [n])\n",
    "    num2 = np.random.randint(0, 2, [n])\n",
    "    targ = np.zeros([n])\n",
    "    c = 0\n",
    "    for i in range(n):\n",
    "        d1 = num1[i]\n",
    "        d2 = num2[i]\n",
    "        s = d1 + d2 + c\n",
    "        p = 0\n",
    "        if s == 0:\n",
    "            p = 0\n",
    "            c = 0\n",
    "        elif s == 1:\n",
    "            p = 1\n",
    "            c = 0\n",
    "        elif s == 2:\n",
    "            p = 0\n",
    "            c = 1\n",
    "        elif s == 3:\n",
    "            p = 1\n",
    "            c = 1\n",
    "            \n",
    "        targ[i] = p\n",
    "        \n",
    "    return {'num1': num1.astype(np.float), 'num2': num2.astype(np.float), 'targ': targ}\n",
    "\n",
    "data(n=5)"
   ]
  },
  {
   "cell_type": "code",
   "execution_count": null,
   "metadata": {
    "collapsed": false
   },
   "outputs": [],
   "source": [
    "def test(net, batch=10, n=10, debug=False):\n",
    "    wrong = 0\n",
    "    for b in range(batch):\n",
    "        d = data(n)\n",
    "        h = np.zeros([1, H_DIM])\n",
    "        c = np.zeros([1, C_DIM])\n",
    "        outs = []\n",
    "        for i in range(n):\n",
    "            net.ff([np.array([[d['num1'][i], d['num2'][i]]])], h, c)\n",
    "            out = net.outputs[0].h[0, 0]\n",
    "            outs.append(out)\n",
    "            t = d['targ'][i]\n",
    "            if abs(out - t) > .5:\n",
    "                wrong += 1\n",
    "                break\n",
    "        if debug:\n",
    "            print('targ: {}'.format(d['targ']))\n",
    "            print('out: {}'.format(outs))\n",
    "    print('correct: {}%'.format( (batch-wrong)/float(batch) * 100.0 ))\n",
    "            \n",
    "        \n",
    "test(net)"
   ]
  },
  {
   "cell_type": "code",
   "execution_count": null,
   "metadata": {
    "collapsed": false
   },
   "outputs": [],
   "source": [
    "TS = range(TIME_STEPS)\n",
    "\n",
    "for i in range(1000000):\n",
    "    d = data(n=TIME_STEPS)\n",
    "    xs = [np.array([[d['num1'][t], d['num2'][t]]]) for t in TS]\n",
    "\n",
    "    h0 = np.zeros([1, H_DIM])\n",
    "    c0 = np.zeros([1, C_DIM])\n",
    "    \n",
    "    net.ff(xs, h0, c0)\n",
    "    \n",
    "    out = [net.outputs[t].h for t in TS]\n",
    "    dys = [out[t] - d['targ'][t] for t in TS]\n",
    "        \n",
    "    net.bp(dys, learning_rate=0.0001)\n",
    "    \n",
    "    if i % 10000 == 0:\n",
    "        clear_output(wait=True)\n",
    "        print(i)\n",
    "        test(net, batch=100, n=5)\n",
    "        for key in net.W:\n",
    "            if np.max(np.abs(net.W[key])) > 50.0:\n",
    "                print('weights out of control')\n",
    "                break"
   ]
  },
  {
   "cell_type": "code",
   "execution_count": null,
   "metadata": {
    "collapsed": false
   },
   "outputs": [],
   "source": [
    "for key in net.grad:\n",
    "    print(key)\n",
    "    print(net.grad[key])"
   ]
  },
  {
   "cell_type": "code",
   "execution_count": null,
   "metadata": {
    "collapsed": false
   },
   "outputs": [],
   "source": [
    "for key in net.W:\n",
    "    print(key)\n",
    "    print(np.round(net.W[key], 2))"
   ]
  },
  {
   "cell_type": "code",
   "execution_count": null,
   "metadata": {
    "collapsed": false
   },
   "outputs": [],
   "source": [
    "test(net, batch=1, n=5, debug=True)"
   ]
  },
  {
   "cell_type": "code",
   "execution_count": null,
   "metadata": {
    "collapsed": true
   },
   "outputs": [],
   "source": []
  }
 ],
 "metadata": {
  "kernelspec": {
   "display_name": "Python 2",
   "language": "python",
   "name": "python2"
  },
  "language_info": {
   "codemirror_mode": {
    "name": "ipython",
    "version": 2
   },
   "file_extension": ".py",
   "mimetype": "text/x-python",
   "name": "python",
   "nbconvert_exporter": "python",
   "pygments_lexer": "ipython2",
   "version": "2.7.11"
  }
 },
 "nbformat": 4,
 "nbformat_minor": 0
}
