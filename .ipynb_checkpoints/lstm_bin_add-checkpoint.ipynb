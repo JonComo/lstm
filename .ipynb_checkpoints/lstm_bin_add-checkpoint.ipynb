{
 "cells": [
  {
   "cell_type": "code",
   "execution_count": 1,
   "metadata": {
    "collapsed": false
   },
   "outputs": [],
   "source": [
    "%matplotlib inline"
   ]
  },
  {
   "cell_type": "code",
   "execution_count": 2,
   "metadata": {
    "collapsed": true
   },
   "outputs": [],
   "source": [
    "from matplotlib import pyplot as plt\n",
    "import numpy as np\n",
    "from ipywidgets import interact\n",
    "from IPython.display import clear_output\n",
    "\n",
    "import lstm\n",
    "\n",
    "np.set_printoptions(precision=5, suppress=True)"
   ]
  },
  {
   "cell_type": "code",
   "execution_count": 136,
   "metadata": {
    "collapsed": false
   },
   "outputs": [
    {
     "name": "stdout",
     "output_type": "stream",
     "text": [
      "LSTM Network version 0.3\n"
     ]
    }
   ],
   "source": [
    "X_DIM = 2\n",
    "H_DIM = 3\n",
    "Y_DIM = 1\n",
    "\n",
    "TIME_STEPS = 5\n",
    "\n",
    "net = lstm.LSTMNetwork(x_dim=X_DIM, \n",
    "                       h_dim=H_DIM, \n",
    "                       y_dim=Y_DIM, \n",
    "                       time_steps=TIME_STEPS, \n",
    "                       act=lstm.sigmoid, \n",
    "                       act_p=lstm.sigmoid_p)"
   ]
  },
  {
   "cell_type": "code",
   "execution_count": 137,
   "metadata": {
    "collapsed": false
   },
   "outputs": [
    {
     "data": {
      "text/plain": [
       "{'num1': array([ 1.,  1.,  0.,  1.,  1.]),\n",
       " 'num2': array([ 1.,  0.,  0.,  0.,  0.]),\n",
       " 'targ': array([ 0.,  0.,  1.,  1.,  1.])}"
      ]
     },
     "execution_count": 137,
     "metadata": {},
     "output_type": "execute_result"
    }
   ],
   "source": [
    "def data(n=10):\n",
    "    num1 = np.random.randint(0, 2, [n])\n",
    "    num2 = np.random.randint(0, 2, [n])\n",
    "    targ = np.zeros([n])\n",
    "    c = 0\n",
    "    for i in range(n):\n",
    "        d1 = num1[i]\n",
    "        d2 = num2[i]\n",
    "        s = d1 + d2 + c\n",
    "        p = 0\n",
    "        if s == 0:\n",
    "            p = 0\n",
    "            c = 0\n",
    "        elif s == 1:\n",
    "            p = 1\n",
    "            c = 0\n",
    "        elif s == 2:\n",
    "            p = 0\n",
    "            c = 1\n",
    "        elif s == 3:\n",
    "            p = 1\n",
    "            c = 1\n",
    "            \n",
    "        targ[i] = p\n",
    "        \n",
    "    return {'num1': num1.astype(np.float), 'num2': num2.astype(np.float), 'targ': targ}\n",
    "\n",
    "data(n=TIME_STEPS)"
   ]
  },
  {
   "cell_type": "code",
   "execution_count": 138,
   "metadata": {
    "collapsed": false
   },
   "outputs": [
    {
     "name": "stdout",
     "output_type": "stream",
     "text": [
      "correct: 0.0%\n"
     ]
    }
   ],
   "source": [
    "def test(net, batch=10, n=10, debug=False):\n",
    "    wrong = 0\n",
    "    for b in range(batch):\n",
    "        d = data(n)\n",
    "        h = np.zeros([1, H_DIM])\n",
    "        c = np.zeros([1, H_DIM])\n",
    "        outs = []\n",
    "        for i in range(n):\n",
    "            net.ff([np.array([[d['num1'][i], d['num2'][i]]])], h, c)\n",
    "            out = net.outputs[0].h[0, 0]\n",
    "            h = net.units[0].h\n",
    "            c = net.units[0].c\n",
    "            outs.append(out)\n",
    "            t = d['targ'][i]\n",
    "            if abs(out - t) > .5:\n",
    "                wrong += 1\n",
    "                break\n",
    "        if debug:\n",
    "            print('targ: {}'.format(d['targ']))\n",
    "            print('out: {}'.format(outs))\n",
    "    print('correct: {}%'.format( (batch-wrong)/float(batch) * 100.0 ))\n",
    "            \n",
    "        \n",
    "test(net)"
   ]
  },
  {
   "cell_type": "code",
   "execution_count": 154,
   "metadata": {
    "collapsed": false
   },
   "outputs": [
    {
     "name": "stdout",
     "output_type": "stream",
     "text": [
      "90000\n",
      "correct: 100.0%\n"
     ]
    }
   ],
   "source": [
    "TS = range(TIME_STEPS)\n",
    "\n",
    "for i in range(100000):\n",
    "    d = data(n=TIME_STEPS)\n",
    "    xs = [np.array([[d['num1'][t], d['num2'][t]]]) for t in TS]\n",
    "\n",
    "    h0 = np.zeros([1, H_DIM])\n",
    "    c0 = np.zeros([1, H_DIM])\n",
    "    \n",
    "    net.ff(xs, h0, c0)\n",
    "    \n",
    "    out = [net.outputs[t].h for t in TS]\n",
    "    dys = [out[t] - d['targ'][t] for t in TS]\n",
    "        \n",
    "    net.bp(dys, learning_rate=0.05)\n",
    "    \n",
    "    if i % 10000 == 0:\n",
    "        clear_output(wait=True)\n",
    "        print(i)\n",
    "        test(net, batch=100, n=10)\n",
    "        for key in net.W:\n",
    "            if np.max(np.abs(net.W[key])) > 50.0:\n",
    "                print('weights out of control')\n",
    "                break"
   ]
  },
  {
   "cell_type": "code",
   "execution_count": 143,
   "metadata": {
    "collapsed": false
   },
   "outputs": [
    {
     "name": "stdout",
     "output_type": "stream",
     "text": [
      "i\n",
      "[[-0.00005  0.00004  0.00005]\n",
      " [ 0.00002  0.00001 -0.00003]\n",
      " [-0.00005  0.00003  0.00003]\n",
      " [ 0.00004  0.00001 -0.00007]\n",
      " [ 0.00004 -0.00007 -0.00007]\n",
      " [-0.00024  0.00017 -0.00024]]\n",
      "y\n",
      "[[-0.00065]\n",
      " [-0.00042]\n",
      " [ 0.00115]\n",
      " [ 0.00168]]\n",
      "c\n",
      "[[ 0.00041 -0.00022  0.00019]\n",
      " [ 0.00019  0.00026 -0.00027]\n",
      " [-0.00021 -0.00005  0.00008]\n",
      " [-0.00052  0.00057 -0.00057]\n",
      " [-0.00004  0.00029 -0.00005]\n",
      " [-0.00073  0.00058 -0.00062]]\n",
      "o\n",
      "[[-0.00008  0.00008  0.00021]\n",
      " [ 0.00001  0.00003  0.0001 ]\n",
      " [-0.00005  0.00007 -0.00013]\n",
      " [ 0.00006  0.00003 -0.00027]\n",
      " [ 0.00009 -0.00012 -0.00006]\n",
      " [-0.00027  0.00034 -0.00073]]\n",
      "f\n",
      "[[-0.00033 -0.00012 -0.00015]\n",
      " [ 0.00012  0.0001   0.0001 ]\n",
      " [-0.00003 -0.00007 -0.00017]\n",
      " [ 0.00053  0.00019  0.00013]\n",
      " [ 0.00032  0.00018  0.00021]\n",
      " [ 0.00053  0.00019  0.00013]]\n"
     ]
    }
   ],
   "source": [
    "for key in net.grad:\n",
    "    print(key)\n",
    "    print(net.grad[key])"
   ]
  },
  {
   "cell_type": "code",
   "execution_count": 144,
   "metadata": {
    "collapsed": false
   },
   "outputs": [
    {
     "name": "stdout",
     "output_type": "stream",
     "text": [
      "i\n",
      "[[-0.31 -0.59  0.11]\n",
      " [ 0.38 -1.09  0.77]\n",
      " [-0.05  0.61 -0.82]\n",
      " [ 1.09  0.55  3.05]\n",
      " [ 1.51  1.33 -1.99]\n",
      " [ 0.75  1.75  2.61]]\n",
      "y\n",
      "[[ -5.72]\n",
      " [  4.73]\n",
      " [-10.89]\n",
      " [  2.88]]\n",
      "c\n",
      "[[-0.8   0.51 -1.42]\n",
      " [-0.9   1.7  -1.62]\n",
      " [ 0.12 -0.93  0.75]\n",
      " [-2.55 -2.81 -2.78]\n",
      " [-1.49 -2.97  3.21]\n",
      " [ 1.41  3.29  2.7 ]]\n",
      "o\n",
      "[[-0.51 -0.68  1.46]\n",
      " [ 0.2  -1.37  5.98]\n",
      " [ 0.22  0.87 -2.45]\n",
      " [ 1.12  0.3   5.18]\n",
      " [ 1.57  1.87 -5.34]\n",
      " [ 0.93  1.41  2.05]]\n",
      "f\n",
      "[[-0.25 -0.32  0.31]\n",
      " [-0.    0.5   0.3 ]\n",
      " [ 0.36  0.23  0.95]\n",
      " [-0.05 -2.67  0.16]\n",
      " [-0.32  1.88 -0.46]\n",
      " [-0.91 -1.54 -1.34]]\n"
     ]
    }
   ],
   "source": [
    "for key in net.W:\n",
    "    print(key)\n",
    "    print(np.round(net.W[key], 2))"
   ]
  },
  {
   "cell_type": "code",
   "execution_count": 153,
   "metadata": {
    "collapsed": false
   },
   "outputs": [
    {
     "name": "stdout",
     "output_type": "stream",
     "text": [
      "correct: 100.0%\n"
     ]
    }
   ],
   "source": [
    "test(net, batch=100, n=100, debug=False)"
   ]
  },
  {
   "cell_type": "code",
   "execution_count": null,
   "metadata": {
    "collapsed": true
   },
   "outputs": [],
   "source": []
  },
  {
   "cell_type": "code",
   "execution_count": null,
   "metadata": {
    "collapsed": true
   },
   "outputs": [],
   "source": []
  },
  {
   "cell_type": "code",
   "execution_count": null,
   "metadata": {
    "collapsed": true
   },
   "outputs": [],
   "source": []
  },
  {
   "cell_type": "code",
   "execution_count": null,
   "metadata": {
    "collapsed": true
   },
   "outputs": [],
   "source": []
  },
  {
   "cell_type": "code",
   "execution_count": null,
   "metadata": {
    "collapsed": true
   },
   "outputs": [],
   "source": []
  },
  {
   "cell_type": "code",
   "execution_count": null,
   "metadata": {
    "collapsed": true
   },
   "outputs": [],
   "source": []
  },
  {
   "cell_type": "code",
   "execution_count": null,
   "metadata": {
    "collapsed": true
   },
   "outputs": [],
   "source": []
  },
  {
   "cell_type": "code",
   "execution_count": null,
   "metadata": {
    "collapsed": true
   },
   "outputs": [],
   "source": []
  },
  {
   "cell_type": "code",
   "execution_count": null,
   "metadata": {
    "collapsed": true
   },
   "outputs": [],
   "source": []
  },
  {
   "cell_type": "code",
   "execution_count": null,
   "metadata": {
    "collapsed": true
   },
   "outputs": [],
   "source": []
  }
 ],
 "metadata": {
  "kernelspec": {
   "display_name": "Python 2",
   "language": "python",
   "name": "python2"
  },
  "language_info": {
   "codemirror_mode": {
    "name": "ipython",
    "version": 2
   },
   "file_extension": ".py",
   "mimetype": "text/x-python",
   "name": "python",
   "nbconvert_exporter": "python",
   "pygments_lexer": "ipython2",
   "version": "2.7.11"
  }
 },
 "nbformat": 4,
 "nbformat_minor": 0
}
