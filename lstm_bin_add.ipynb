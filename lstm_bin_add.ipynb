{
 "cells": [
  {
   "cell_type": "code",
   "execution_count": 1,
   "metadata": {
    "collapsed": true
   },
   "outputs": [],
   "source": [
    "%matplotlib inline"
   ]
  },
  {
   "cell_type": "code",
   "execution_count": 14,
   "metadata": {
    "collapsed": true
   },
   "outputs": [],
   "source": [
    "from matplotlib import pyplot as plt\n",
    "import numpy as np\n",
    "from ipywidgets import interact\n",
    "from IPython.display import clear_output\n",
    "\n",
    "import lstm\n",
    "\n",
    "np.set_printoptions(precision=5, suppress=True)"
   ]
  },
  {
   "cell_type": "code",
   "execution_count": 15,
   "metadata": {
    "collapsed": false
   },
   "outputs": [
    {
     "name": "stdout",
     "output_type": "stream",
     "text": [
      "LSTM Network version 0.2\n"
     ]
    }
   ],
   "source": [
    "X_DIM = 2\n",
    "H_DIM = 5\n",
    "C_DIM = 5\n",
    "Y_DIM = 1\n",
    "\n",
    "TIME_STEPS = 5\n",
    "\n",
    "net = lstm.LSTMNetwork(x_dim=X_DIM, \n",
    "                       h_dim=H_DIM, \n",
    "                       y_dim=Y_DIM, \n",
    "                       c_dim=C_DIM, \n",
    "                       time_steps=TIME_STEPS, \n",
    "                       act=None, \n",
    "                       act_p=None)"
   ]
  },
  {
   "cell_type": "code",
   "execution_count": 16,
   "metadata": {
    "collapsed": false
   },
   "outputs": [
    {
     "data": {
      "text/plain": [
       "{'num1': array([ 1.,  1.,  1.,  0.,  0.]),\n",
       " 'num2': array([ 1.,  0.,  0.,  0.,  1.]),\n",
       " 'targ': array([ 0.,  0.,  0.,  1.,  1.])}"
      ]
     },
     "execution_count": 16,
     "metadata": {},
     "output_type": "execute_result"
    }
   ],
   "source": [
    "def data(n=10):\n",
    "    num1 = np.random.randint(0, 2, [n])\n",
    "    num2 = np.random.randint(0, 2, [n])\n",
    "    targ = np.zeros([n])\n",
    "    c = 0\n",
    "    for i in range(n):\n",
    "        d1 = num1[i]\n",
    "        d2 = num2[i]\n",
    "        s = d1 + d2 + c\n",
    "        p = 0\n",
    "        if s == 0:\n",
    "            p = 0\n",
    "            c = 0\n",
    "        elif s == 1:\n",
    "            p = 1\n",
    "            c = 0\n",
    "        elif s == 2:\n",
    "            p = 0\n",
    "            c = 1\n",
    "        elif s == 3:\n",
    "            p = 1\n",
    "            c = 1\n",
    "            \n",
    "        targ[i] = p\n",
    "        \n",
    "    return {'num1': num1.astype(np.float), 'num2': num2.astype(np.float), 'targ': targ}\n",
    "\n",
    "data(n=5)"
   ]
  },
  {
   "cell_type": "code",
   "execution_count": 17,
   "metadata": {
    "collapsed": false
   },
   "outputs": [
    {
     "name": "stdout",
     "output_type": "stream",
     "text": [
      "correct: 0.0%\n"
     ]
    }
   ],
   "source": [
    "def test(net, batch=10, n=10, debug=False):\n",
    "    wrong = 0\n",
    "    for b in range(batch):\n",
    "        d = data(n)\n",
    "        h = np.zeros([1, H_DIM])\n",
    "        c = np.zeros([1, C_DIM])\n",
    "        outs = []\n",
    "        for i in range(n):\n",
    "            net.ff([np.array([[d['num1'][i], d['num2'][i]]])], h, c)\n",
    "            out = net.outputs[0].h[0, 0]\n",
    "            outs.append(out)\n",
    "            t = d['targ'][i]\n",
    "            if abs(out - t) > .5:\n",
    "                wrong += 1\n",
    "                break\n",
    "        if debug:\n",
    "            print('targ: {}'.format(d['targ']))\n",
    "            print('out: {}'.format(outs))\n",
    "    print('correct: {}%'.format( (batch-wrong)/float(batch) * 100.0 ))\n",
    "            \n",
    "        \n",
    "test(net)"
   ]
  },
  {
   "cell_type": "code",
   "execution_count": null,
   "metadata": {
    "collapsed": false
   },
   "outputs": [
    {
     "name": "stdout",
     "output_type": "stream",
     "text": [
      "0\n",
      "correct: 2.0%\n"
     ]
    }
   ],
   "source": [
    "TS = range(TIME_STEPS)\n",
    "\n",
    "for i in range(1000000):\n",
    "    d = data(n=TIME_STEPS)\n",
    "    xs = [np.array([[d['num1'][t], d['num2'][t]]]) for t in TS]\n",
    "\n",
    "    h0 = np.zeros([1, H_DIM])\n",
    "    c0 = np.zeros([1, C_DIM])\n",
    "    \n",
    "    net.ff(xs, h0, c0)\n",
    "    \n",
    "    out = [net.outputs[t].h for t in TS]\n",
    "    dys = [out[t] - d['targ'][t] for t in TS]\n",
    "    \n",
    "    net.bp(dys, learning_rate=0.0001)\n",
    "    \n",
    "    if i % 100000 == 0:\n",
    "        clear_output(wait=True)\n",
    "        print(i)\n",
    "        test(net, batch=100, n=5)\n",
    "        for key in net.W:\n",
    "            if np.max(np.abs(net.W[key])) > 50.0:\n",
    "                print('weights out of control')\n",
    "                break"
   ]
  },
  {
   "cell_type": "code",
   "execution_count": 12,
   "metadata": {
    "collapsed": false
   },
   "outputs": [
    {
     "name": "stdout",
     "output_type": "stream",
     "text": [
      "i\n",
      "[[ 0.  0.  0.  0.  0.]\n",
      " [ 0.  0.  0.  0.  0.]\n",
      " [ 0.  0.  0.  0.  0.]\n",
      " [ 0.  0.  0.  0.  0.]\n",
      " [ 0.  0.  0.  0.  0.]\n",
      " [ 0.  0.  0.  0.  0.]\n",
      " [ 0.  0.  0.  0.  0.]\n",
      " [ 0.  0.  0.  0.  0.]]\n",
      "y\n",
      "[[ 0.    ]\n",
      " [ 0.    ]\n",
      " [ 0.    ]\n",
      " [ 0.    ]\n",
      " [ 0.    ]\n",
      " [-2.0982]]\n",
      "c\n",
      "[[ 0.  0.  0.  0.  0.]\n",
      " [ 0.  0.  0.  0.  0.]\n",
      " [ 0.  0.  0.  0.  0.]\n",
      " [ 0.  0.  0.  0.  0.]\n",
      " [ 0.  0.  0.  0.  0.]\n",
      " [ 0.  0.  0.  0.  0.]\n",
      " [ 0.  0.  0.  0.  0.]\n",
      " [ 0.  0.  0.  0.  0.]]\n",
      "o\n",
      "[[ 0.  0.  0.  0.  0.]\n",
      " [ 0.  0.  0.  0.  0.]\n",
      " [ 0.  0.  0.  0.  0.]\n",
      " [ 0.  0.  0.  0.  0.]\n",
      " [ 0.  0.  0.  0.  0.]\n",
      " [ 0.  0.  0.  0.  0.]\n",
      " [ 0.  0.  0.  0.  0.]\n",
      " [ 0.  0.  0.  0.  0.]]\n",
      "f\n",
      "[[ 0.  0.  0.  0.  0.]\n",
      " [ 0.  0.  0.  0.  0.]\n",
      " [ 0.  0.  0.  0.  0.]\n",
      " [ 0.  0.  0.  0.  0.]\n",
      " [ 0.  0.  0.  0.  0.]\n",
      " [ 0.  0.  0.  0.  0.]\n",
      " [ 0.  0.  0.  0.  0.]\n",
      " [ 0.  0.  0.  0.  0.]]\n"
     ]
    }
   ],
   "source": [
    "for key in net.grad:\n",
    "    print(key)\n",
    "    print(net.grad[key])"
   ]
  },
  {
   "cell_type": "code",
   "execution_count": 13,
   "metadata": {
    "collapsed": false
   },
   "outputs": [
    {
     "name": "stdout",
     "output_type": "stream",
     "text": [
      "i\n",
      "[[     235.62      234.2       235.66      235.56      235.57]\n",
      " [    -235.43     -234.28     -236.04     -237.32     -236.34]\n",
      " [    -235.48     -233.73     -235.68     -235.71     -235.63]\n",
      " [     235.06      233.05      235.72      236.21      235.26]\n",
      " [     235.08      233.23      235.75      236.05      235.64]\n",
      " [-1654669.29 -1638972.86 -1656006.56 -1659164.54 -1657647.55]\n",
      " [   13335.73    12679.66    13391.9     13521.99    13460.11]\n",
      " [-1640950.33 -1625927.76 -1642230.14 -1645258.95 -1643799.31]]\n",
      "y\n",
      "[[ 0.96]\n",
      " [-0.52]\n",
      " [ 0.3 ]\n",
      " [ 0.83]\n",
      " [-2.06]\n",
      " [ 0.48]]\n",
      "c\n",
      "[[    -235.67      234.38      235.69     -236.12     -236.17]\n",
      " [     236.21     -234.2      -235.95      235.93      235.6 ]\n",
      " [     235.78     -234.27     -235.83      236.06      235.99]\n",
      " [    -235.83      233.65      235.66     -235.72     -235.41]\n",
      " [    -235.6       234.4       235.55     -235.71     -236.44]\n",
      " [ 1654670.52 -1638972.96 -1656006.68  1659173.    1657646.13]\n",
      " [  -13334.6     12676.81    13391.93   -13524.62   -13460.91]\n",
      " [ 1640950.32 -1625932.36 -1642230.16  1645262.39  1643802.33]]\n",
      "o\n",
      "[[    3221.07     3202.77     3222.02     3224.72     3223.42]\n",
      " [   -3221.99    -3203.7     -3223.42    -3228.86    -3224.43]\n",
      " [   -3220.76    -3202.81    -3221.93    -3224.92    -3222.97]\n",
      " [    3220.19     3202.18     3221.68     3225.5      3222.38]\n",
      " [    3220.19     3202.56     3221.71     3225.16     3222.99]\n",
      " [-3003893.26 -2975404.24 -3006319.77 -3012060.73 -3009292.98]\n",
      " [   20322.08    19162.36    20422.27    20652.27    20543.19]\n",
      " [-2978856.2  -2951599.79 -2981177.22 -2986676.78 -2984025.77]]\n",
      "f\n",
      "[[ 235.64  234.47  235.89  236.31  236.4 ]\n",
      " [-235.93 -233.97 -235.97 -235.76 -235.23]\n",
      " [-235.82 -234.23 -235.76 -235.98 -236.08]\n",
      " [ 235.64  234.06  235.77  235.53  235.74]\n",
      " [ 235.78  234.    235.68  235.55  236.05]\n",
      " [-325.25 -323.18 -325.55 -326.19 -325.05]\n",
      " [-324.12 -320.71 -324.17 -324.81 -324.63]\n",
      " [-309.48 -307.89 -309.46 -310.67 -310.28]]\n"
     ]
    }
   ],
   "source": [
    "for key in net.W:\n",
    "    print(key)\n",
    "    print(np.round(net.W[key], 2))"
   ]
  },
  {
   "cell_type": "code",
   "execution_count": 14,
   "metadata": {
    "collapsed": false
   },
   "outputs": [
    {
     "name": "stdout",
     "output_type": "stream",
     "text": [
      "targ: [ 1.  1.  1.  1.  0.]\n",
      "out: [0.54568293717596394, 0.54568293717596394, 0.54568293717596394, 0.54568293717596394, 0.54568293717596394]\n",
      "correct: 0.0%\n"
     ]
    }
   ],
   "source": [
    "test(net, batch=1, n=5, debug=True)"
   ]
  },
  {
   "cell_type": "code",
   "execution_count": null,
   "metadata": {
    "collapsed": true
   },
   "outputs": [],
   "source": []
  }
 ],
 "metadata": {
  "kernelspec": {
   "display_name": "Python 2",
   "language": "python",
   "name": "python2"
  },
  "language_info": {
   "codemirror_mode": {
    "name": "ipython",
    "version": 2
   },
   "file_extension": ".py",
   "mimetype": "text/x-python",
   "name": "python",
   "nbconvert_exporter": "python",
   "pygments_lexer": "ipython2",
   "version": "2.7.11"
  }
 },
 "nbformat": 4,
 "nbformat_minor": 0
}
