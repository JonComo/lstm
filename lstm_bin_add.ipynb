{
 "cells": [
  {
   "cell_type": "code",
   "execution_count": 1,
   "metadata": {
    "collapsed": true
   },
   "outputs": [],
   "source": [
    "%matplotlib inline"
   ]
  },
  {
   "cell_type": "code",
   "execution_count": 2,
   "metadata": {
    "collapsed": true
   },
   "outputs": [],
   "source": [
    "from matplotlib import pyplot as plt\n",
    "import numpy as np\n",
    "from ipywidgets import interact\n",
    "from IPython.display import clear_output\n",
    "\n",
    "import lstm\n",
    "\n",
    "np.set_printoptions(precision=5, suppress=True)"
   ]
  },
  {
   "cell_type": "code",
   "execution_count": 3,
   "metadata": {
    "collapsed": false
   },
   "outputs": [
    {
     "name": "stdout",
     "output_type": "stream",
     "text": [
      "LSTM Network version 0.3\n"
     ]
    }
   ],
   "source": [
    "X_DIM = 2\n",
    "H_DIM = 3\n",
    "Y_DIM = 1\n",
    "\n",
    "TIME_STEPS = 5\n",
    "\n",
    "net = lstm.LSTMNetwork(x_dim=X_DIM, \n",
    "                       h_dim=H_DIM, \n",
    "                       y_dim=Y_DIM, \n",
    "                       time_steps=TIME_STEPS, \n",
    "                       act=None, \n",
    "                       act_p=None)"
   ]
  },
  {
   "cell_type": "code",
   "execution_count": 4,
   "metadata": {
    "collapsed": false
   },
   "outputs": [
    {
     "data": {
      "text/plain": [
       "{'num1': array([ 1.,  1.,  0.,  0.,  1.]),\n",
       " 'num2': array([ 1.,  0.,  0.,  0.,  0.]),\n",
       " 'targ': array([ 0.,  0.,  1.,  0.,  1.])}"
      ]
     },
     "execution_count": 4,
     "metadata": {},
     "output_type": "execute_result"
    }
   ],
   "source": [
    "def data(n=10):\n",
    "    num1 = np.random.randint(0, 2, [n])\n",
    "    num2 = np.random.randint(0, 2, [n])\n",
    "    targ = np.zeros([n])\n",
    "    c = 0\n",
    "    for i in range(n):\n",
    "        d1 = num1[i]\n",
    "        d2 = num2[i]\n",
    "        s = d1 + d2 + c\n",
    "        p = 0\n",
    "        if s == 0:\n",
    "            p = 0\n",
    "            c = 0\n",
    "        elif s == 1:\n",
    "            p = 1\n",
    "            c = 0\n",
    "        elif s == 2:\n",
    "            p = 0\n",
    "            c = 1\n",
    "        elif s == 3:\n",
    "            p = 1\n",
    "            c = 1\n",
    "            \n",
    "        targ[i] = p\n",
    "        \n",
    "    return {'num1': num1.astype(np.float), 'num2': num2.astype(np.float), 'targ': targ}\n",
    "\n",
    "data(n=5)"
   ]
  },
  {
   "cell_type": "code",
   "execution_count": 5,
   "metadata": {
    "collapsed": false
   },
   "outputs": [
    {
     "name": "stdout",
     "output_type": "stream",
     "text": [
      "correct: 0.0%\n"
     ]
    }
   ],
   "source": [
    "def test(net, batch=10, n=10, debug=False):\n",
    "    wrong = 0\n",
    "    for b in range(batch):\n",
    "        d = data(n)\n",
    "        h = np.zeros([1, H_DIM])\n",
    "        c = np.zeros([1, H_DIM])\n",
    "        outs = []\n",
    "        for i in range(n):\n",
    "            net.ff([np.array([[d['num1'][i], d['num2'][i]]])], h, c)\n",
    "            out = net.outputs[0].h[0, 0]\n",
    "            outs.append(out)\n",
    "            t = d['targ'][i]\n",
    "            if abs(out - t) > .5:\n",
    "                wrong += 1\n",
    "                break\n",
    "        if debug:\n",
    "            print('targ: {}'.format(d['targ']))\n",
    "            print('out: {}'.format(outs))\n",
    "    print('correct: {}%'.format( (batch-wrong)/float(batch) * 100.0 ))\n",
    "            \n",
    "        \n",
    "test(net)"
   ]
  },
  {
   "cell_type": "code",
   "execution_count": 6,
   "metadata": {
    "collapsed": false
   },
   "outputs": [
    {
     "name": "stdout",
     "output_type": "stream",
     "text": [
      "20000\n",
      "correct: 6.0%\n"
     ]
    },
    {
     "ename": "KeyboardInterrupt",
     "evalue": "",
     "output_type": "error",
     "traceback": [
      "\u001b[1;31m---------------------------------------------------------------------------\u001b[0m",
      "\u001b[1;31mKeyboardInterrupt\u001b[0m                         Traceback (most recent call last)",
      "\u001b[1;32m<ipython-input-6-2a7ed547e6e9>\u001b[0m in \u001b[0;36m<module>\u001b[1;34m()\u001b[0m\n\u001b[0;32m      8\u001b[0m     \u001b[0mc0\u001b[0m \u001b[1;33m=\u001b[0m \u001b[0mnp\u001b[0m\u001b[1;33m.\u001b[0m\u001b[0mzeros\u001b[0m\u001b[1;33m(\u001b[0m\u001b[1;33m[\u001b[0m\u001b[1;36m1\u001b[0m\u001b[1;33m,\u001b[0m \u001b[0mH_DIM\u001b[0m\u001b[1;33m]\u001b[0m\u001b[1;33m)\u001b[0m\u001b[1;33m\u001b[0m\u001b[0m\n\u001b[0;32m      9\u001b[0m \u001b[1;33m\u001b[0m\u001b[0m\n\u001b[1;32m---> 10\u001b[1;33m     \u001b[0mnet\u001b[0m\u001b[1;33m.\u001b[0m\u001b[0mff\u001b[0m\u001b[1;33m(\u001b[0m\u001b[0mxs\u001b[0m\u001b[1;33m,\u001b[0m \u001b[0mh0\u001b[0m\u001b[1;33m,\u001b[0m \u001b[0mc0\u001b[0m\u001b[1;33m)\u001b[0m\u001b[1;33m\u001b[0m\u001b[0m\n\u001b[0m\u001b[0;32m     11\u001b[0m \u001b[1;33m\u001b[0m\u001b[0m\n\u001b[0;32m     12\u001b[0m     \u001b[0mout\u001b[0m \u001b[1;33m=\u001b[0m \u001b[1;33m[\u001b[0m\u001b[0mnet\u001b[0m\u001b[1;33m.\u001b[0m\u001b[0moutputs\u001b[0m\u001b[1;33m[\u001b[0m\u001b[0mt\u001b[0m\u001b[1;33m]\u001b[0m\u001b[1;33m.\u001b[0m\u001b[0mh\u001b[0m \u001b[1;32mfor\u001b[0m \u001b[0mt\u001b[0m \u001b[1;32min\u001b[0m \u001b[0mTS\u001b[0m\u001b[1;33m]\u001b[0m\u001b[1;33m\u001b[0m\u001b[0m\n",
      "\u001b[1;32m/home/jon/research/ml/rnn/lstm/lstm.py\u001b[0m in \u001b[0;36mff\u001b[1;34m(self, xs, h0, c0)\u001b[0m\n\u001b[0;32m    118\u001b[0m         \u001b[1;32mfor\u001b[0m \u001b[0mi\u001b[0m\u001b[1;33m,\u001b[0m \u001b[0mx\u001b[0m \u001b[1;32min\u001b[0m \u001b[0menumerate\u001b[0m\u001b[1;33m(\u001b[0m\u001b[0mxs\u001b[0m\u001b[1;33m)\u001b[0m\u001b[1;33m:\u001b[0m\u001b[1;33m\u001b[0m\u001b[0m\n\u001b[0;32m    119\u001b[0m             \u001b[0munit\u001b[0m \u001b[1;33m=\u001b[0m \u001b[0mself\u001b[0m\u001b[1;33m.\u001b[0m\u001b[0munits\u001b[0m\u001b[1;33m[\u001b[0m\u001b[0mi\u001b[0m\u001b[1;33m]\u001b[0m\u001b[1;33m\u001b[0m\u001b[0m\n\u001b[1;32m--> 120\u001b[1;33m             \u001b[0munit\u001b[0m\u001b[1;33m.\u001b[0m\u001b[0mff\u001b[0m\u001b[1;33m(\u001b[0m\u001b[0mx\u001b[0m\u001b[1;33m,\u001b[0m \u001b[0mh\u001b[0m\u001b[1;33m,\u001b[0m \u001b[0mc\u001b[0m\u001b[1;33m,\u001b[0m \u001b[0mself\u001b[0m\u001b[1;33m.\u001b[0m\u001b[0mW\u001b[0m\u001b[1;33m)\u001b[0m\u001b[1;33m\u001b[0m\u001b[0m\n\u001b[0m\u001b[0;32m    121\u001b[0m \u001b[1;33m\u001b[0m\u001b[0m\n\u001b[0;32m    122\u001b[0m             \u001b[0mh\u001b[0m \u001b[1;33m=\u001b[0m \u001b[0munit\u001b[0m\u001b[1;33m.\u001b[0m\u001b[0mh\u001b[0m\u001b[1;33m\u001b[0m\u001b[0m\n",
      "\u001b[1;32m/home/jon/research/ml/rnn/lstm/lstm.py\u001b[0m in \u001b[0;36mff\u001b[1;34m(self, x, h0, c0, W)\u001b[0m\n\u001b[0;32m     63\u001b[0m         \u001b[0mself\u001b[0m\u001b[1;33m.\u001b[0m\u001b[0mgi\u001b[0m\u001b[1;33m.\u001b[0m\u001b[0mff\u001b[0m\u001b[1;33m(\u001b[0m\u001b[0mself\u001b[0m\u001b[1;33m.\u001b[0m\u001b[0mhxb\u001b[0m\u001b[1;33m,\u001b[0m \u001b[0mW\u001b[0m\u001b[1;33m[\u001b[0m\u001b[1;34m'i'\u001b[0m\u001b[1;33m]\u001b[0m\u001b[1;33m)\u001b[0m\u001b[1;33m\u001b[0m\u001b[0m\n\u001b[0;32m     64\u001b[0m         \u001b[0mself\u001b[0m\u001b[1;33m.\u001b[0m\u001b[0mgc\u001b[0m\u001b[1;33m.\u001b[0m\u001b[0mff\u001b[0m\u001b[1;33m(\u001b[0m\u001b[0mself\u001b[0m\u001b[1;33m.\u001b[0m\u001b[0mhxb\u001b[0m\u001b[1;33m,\u001b[0m \u001b[0mW\u001b[0m\u001b[1;33m[\u001b[0m\u001b[1;34m'c'\u001b[0m\u001b[1;33m]\u001b[0m\u001b[1;33m)\u001b[0m\u001b[1;33m\u001b[0m\u001b[0m\n\u001b[1;32m---> 65\u001b[1;33m         \u001b[0mself\u001b[0m\u001b[1;33m.\u001b[0m\u001b[0mgo\u001b[0m\u001b[1;33m.\u001b[0m\u001b[0mff\u001b[0m\u001b[1;33m(\u001b[0m\u001b[0mself\u001b[0m\u001b[1;33m.\u001b[0m\u001b[0mhxb\u001b[0m\u001b[1;33m,\u001b[0m \u001b[0mW\u001b[0m\u001b[1;33m[\u001b[0m\u001b[1;34m'o'\u001b[0m\u001b[1;33m]\u001b[0m\u001b[1;33m)\u001b[0m\u001b[1;33m\u001b[0m\u001b[0m\n\u001b[0m\u001b[0;32m     66\u001b[0m \u001b[1;33m\u001b[0m\u001b[0m\n\u001b[0;32m     67\u001b[0m         \u001b[0mself\u001b[0m\u001b[1;33m.\u001b[0m\u001b[0mc\u001b[0m \u001b[1;33m=\u001b[0m \u001b[0mm\u001b[0m\u001b[1;33m(\u001b[0m\u001b[0mself\u001b[0m\u001b[1;33m.\u001b[0m\u001b[0mgf\u001b[0m\u001b[1;33m.\u001b[0m\u001b[0mh\u001b[0m\u001b[1;33m,\u001b[0m \u001b[0mself\u001b[0m\u001b[1;33m.\u001b[0m\u001b[0mc0\u001b[0m\u001b[1;33m)\u001b[0m \u001b[1;33m+\u001b[0m \u001b[0mm\u001b[0m\u001b[1;33m(\u001b[0m\u001b[0mself\u001b[0m\u001b[1;33m.\u001b[0m\u001b[0mgi\u001b[0m\u001b[1;33m.\u001b[0m\u001b[0mh\u001b[0m\u001b[1;33m,\u001b[0m \u001b[0mself\u001b[0m\u001b[1;33m.\u001b[0m\u001b[0mgc\u001b[0m\u001b[1;33m.\u001b[0m\u001b[0mh\u001b[0m\u001b[1;33m)\u001b[0m\u001b[1;33m\u001b[0m\u001b[0m\n",
      "\u001b[1;32m/home/jon/research/ml/rnn/lstm/lstm.py\u001b[0m in \u001b[0;36mff\u001b[1;34m(self, x, W)\u001b[0m\n\u001b[0;32m     37\u001b[0m         \u001b[0mself\u001b[0m\u001b[1;33m.\u001b[0m\u001b[0mx\u001b[0m \u001b[1;33m=\u001b[0m \u001b[0mx\u001b[0m\u001b[1;33m\u001b[0m\u001b[0m\n\u001b[0;32m     38\u001b[0m         \u001b[0mself\u001b[0m\u001b[1;33m.\u001b[0m\u001b[0mz\u001b[0m \u001b[1;33m=\u001b[0m \u001b[0mself\u001b[0m\u001b[1;33m.\u001b[0m\u001b[0mx\u001b[0m\u001b[1;33m.\u001b[0m\u001b[0mdot\u001b[0m\u001b[1;33m(\u001b[0m\u001b[0mW\u001b[0m\u001b[1;33m)\u001b[0m\u001b[1;33m\u001b[0m\u001b[0m\n\u001b[1;32m---> 39\u001b[1;33m         \u001b[0mself\u001b[0m\u001b[1;33m.\u001b[0m\u001b[0mh\u001b[0m \u001b[1;33m=\u001b[0m \u001b[0mself\u001b[0m\u001b[1;33m.\u001b[0m\u001b[0mact\u001b[0m\u001b[1;33m(\u001b[0m\u001b[0mself\u001b[0m\u001b[1;33m.\u001b[0m\u001b[0mz\u001b[0m\u001b[1;33m)\u001b[0m \u001b[1;32mif\u001b[0m \u001b[0mself\u001b[0m\u001b[1;33m.\u001b[0m\u001b[0mact\u001b[0m \u001b[1;32melse\u001b[0m \u001b[0mself\u001b[0m\u001b[1;33m.\u001b[0m\u001b[0mz\u001b[0m\u001b[1;33m\u001b[0m\u001b[0m\n\u001b[0m\u001b[0;32m     40\u001b[0m         \u001b[1;32mreturn\u001b[0m \u001b[0mself\u001b[0m\u001b[1;33m\u001b[0m\u001b[0m\n\u001b[0;32m     41\u001b[0m \u001b[1;33m\u001b[0m\u001b[0m\n",
      "\u001b[1;32m/home/jon/research/ml/rnn/lstm/lstm.py\u001b[0m in \u001b[0;36msigmoid\u001b[1;34m(x)\u001b[0m\n\u001b[0;32m     10\u001b[0m \u001b[1;31m# activation functions\u001b[0m\u001b[1;33m\u001b[0m\u001b[1;33m\u001b[0m\u001b[0m\n\u001b[0;32m     11\u001b[0m \u001b[1;32mdef\u001b[0m \u001b[0msigmoid\u001b[0m\u001b[1;33m(\u001b[0m\u001b[0mx\u001b[0m\u001b[1;33m)\u001b[0m\u001b[1;33m:\u001b[0m\u001b[1;33m\u001b[0m\u001b[0m\n\u001b[1;32m---> 12\u001b[1;33m     \u001b[1;32mreturn\u001b[0m \u001b[1;36m1.0\u001b[0m\u001b[1;33m/\u001b[0m\u001b[1;33m(\u001b[0m\u001b[1;36m1.0\u001b[0m \u001b[1;33m+\u001b[0m \u001b[0mnp\u001b[0m\u001b[1;33m.\u001b[0m\u001b[0mexp\u001b[0m\u001b[1;33m(\u001b[0m\u001b[1;33m-\u001b[0m\u001b[0mx\u001b[0m\u001b[1;33m)\u001b[0m\u001b[1;33m)\u001b[0m\u001b[1;33m\u001b[0m\u001b[0m\n\u001b[0m\u001b[0;32m     13\u001b[0m \u001b[1;33m\u001b[0m\u001b[0m\n\u001b[0;32m     14\u001b[0m \u001b[1;32mdef\u001b[0m \u001b[0msigmoid_p\u001b[0m\u001b[1;33m(\u001b[0m\u001b[0mx\u001b[0m\u001b[1;33m)\u001b[0m\u001b[1;33m:\u001b[0m\u001b[1;33m\u001b[0m\u001b[0m\n",
      "\u001b[1;31mKeyboardInterrupt\u001b[0m: "
     ]
    }
   ],
   "source": [
    "TS = range(TIME_STEPS)\n",
    "\n",
    "for i in range(1000000):\n",
    "    d = data(n=TIME_STEPS)\n",
    "    xs = [np.array([[d['num1'][t], d['num2'][t]]]) for t in TS]\n",
    "\n",
    "    h0 = np.zeros([1, H_DIM])\n",
    "    c0 = np.zeros([1, H_DIM])\n",
    "    \n",
    "    net.ff(xs, h0, c0)\n",
    "    \n",
    "    out = [net.outputs[t].h for t in TS]\n",
    "    dys = [out[t] - d['targ'][t] for t in TS]\n",
    "        \n",
    "    net.bp(dys, learning_rate=0.0001)\n",
    "    \n",
    "    if i % 10000 == 0:\n",
    "        clear_output(wait=True)\n",
    "        print(i)\n",
    "        test(net, batch=100, n=5)\n",
    "        for key in net.W:\n",
    "            if np.max(np.abs(net.W[key])) > 50.0:\n",
    "                print('weights out of control')\n",
    "                break"
   ]
  },
  {
   "cell_type": "code",
   "execution_count": 7,
   "metadata": {
    "collapsed": false
   },
   "outputs": [
    {
     "name": "stdout",
     "output_type": "stream",
     "text": [
      "i\n",
      "[[-0.00793 -0.00051 -0.0143 ]\n",
      " [-0.00084  0.0023  -0.00482]\n",
      " [-0.00903 -0.00283  0.00648]\n",
      " [-0.03829  0.00538 -0.03374]\n",
      " [-0.01391 -0.01334 -0.01574]\n",
      " [-0.10209 -0.0219  -0.00932]]\n",
      "y\n",
      "[[ 0.17377]\n",
      " [-0.03495]\n",
      " [-0.04651]\n",
      " [ 0.63749]]\n",
      "c\n",
      "[[-0.00233 -0.00533  0.0161 ]\n",
      " [-0.00043  0.00022  0.00281]\n",
      " [-0.00403  0.00175  0.00375]\n",
      " [-0.01305  0.00423  0.02744]\n",
      " [-0.00142 -0.01386  0.01824]\n",
      " [-0.06521 -0.0025   0.06935]]\n",
      "o\n",
      "[[-0.00267  0.00647 -0.01501]\n",
      " [-0.00088  0.00292 -0.0001 ]\n",
      " [-0.01488 -0.00058 -0.01359]\n",
      " [-0.07886  0.04985 -0.1069 ]\n",
      " [-0.01183  0.01298 -0.05892]\n",
      " [-0.0646  -0.0142   0.00313]]\n",
      "f\n",
      "[[-0.00815 -0.00324  0.00702]\n",
      " [-0.00025 -0.00228  0.00522]\n",
      " [-0.00678  0.00452 -0.01492]\n",
      " [-0.02663  0.00064 -0.0057 ]\n",
      " [-0.01729  0.00533 -0.00825]\n",
      " [-0.01821 -0.00624  0.01604]]\n"
     ]
    }
   ],
   "source": [
    "for key in net.grad:\n",
    "    print(key)\n",
    "    print(net.grad[key])"
   ]
  },
  {
   "cell_type": "code",
   "execution_count": 8,
   "metadata": {
    "collapsed": false
   },
   "outputs": [
    {
     "name": "stdout",
     "output_type": "stream",
     "text": [
      "i\n",
      "[[-0.86  0.55 -0.44]\n",
      " [-0.35 -0.04  0.69]\n",
      " [-0.03  0.79  0.75]\n",
      " [-0.32  0.45  1.07]\n",
      " [-0.03  0.5   0.04]\n",
      " [ 0.02 -0.16 -0.44]]\n",
      "y\n",
      "[[-0.25]\n",
      " [ 0.11]\n",
      " [ 0.45]\n",
      " [ 0.66]]\n",
      "c\n",
      "[[ 0.78  0.8  -0.71]\n",
      " [ 0.43  0.07 -0.62]\n",
      " [-0.99  0.77 -0.72]\n",
      " [ 0.93  0.78  0.02]\n",
      " [ 0.78  0.92 -1.03]\n",
      " [ 0.9  -0.37  0.27]]\n",
      "o\n",
      "[[-0.84 -0.51 -0.18]\n",
      " [ 0.98  0.96  0.02]\n",
      " [ 0.75  0.35 -0.8 ]\n",
      " [ 0.12 -0.29  0.86]\n",
      " [ 0.1  -0.14  0.31]\n",
      " [ 0.85 -0.37 -0.48]]\n",
      "f\n",
      "[[ 0.61  0.85  0.69]\n",
      " [-0.3   0.95 -0.1 ]\n",
      " [ 0.64 -0.03  0.12]\n",
      " [-0.81  0.56  0.8 ]\n",
      " [ 0.73 -0.77  0.71]\n",
      " [-0.18 -0.69  0.27]]\n"
     ]
    }
   ],
   "source": [
    "for key in net.W:\n",
    "    print(key)\n",
    "    print(np.round(net.W[key], 2))"
   ]
  },
  {
   "cell_type": "code",
   "execution_count": 9,
   "metadata": {
    "collapsed": false
   },
   "outputs": [
    {
     "name": "stdout",
     "output_type": "stream",
     "text": [
      "targ: [ 0.  1.  0.  1.  0.]\n",
      "out: [0.61103804266529749]\n",
      "correct: 0.0%\n"
     ]
    }
   ],
   "source": [
    "test(net, batch=1, n=5, debug=True)"
   ]
  },
  {
   "cell_type": "code",
   "execution_count": null,
   "metadata": {
    "collapsed": true
   },
   "outputs": [],
   "source": []
  }
 ],
 "metadata": {
  "kernelspec": {
   "display_name": "Python 2",
   "language": "python",
   "name": "python2"
  },
  "language_info": {
   "codemirror_mode": {
    "name": "ipython",
    "version": 2
   },
   "file_extension": ".py",
   "mimetype": "text/x-python",
   "name": "python",
   "nbconvert_exporter": "python",
   "pygments_lexer": "ipython2",
   "version": "2.7.11"
  }
 },
 "nbformat": 4,
 "nbformat_minor": 0
}
