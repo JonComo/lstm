{
 "cells": [
  {
   "cell_type": "code",
   "execution_count": 1,
   "metadata": {
    "collapsed": false
   },
   "outputs": [
    {
     "name": "stderr",
     "output_type": "stream",
     "text": [
      "/Users/joncomo/miniconda2/envs/py27/lib/python2.7/site-packages/matplotlib/font_manager.py:273: UserWarning: Matplotlib is building the font cache using fc-list. This may take a moment.\n",
      "  warnings.warn('Matplotlib is building the font cache using fc-list. This may take a moment.')\n"
     ]
    }
   ],
   "source": [
    "%matplotlib inline"
   ]
  },
  {
   "cell_type": "code",
   "execution_count": 2,
   "metadata": {
    "collapsed": true
   },
   "outputs": [],
   "source": [
    "from matplotlib import pyplot as plt\n",
    "import numpy as np\n",
    "from ipywidgets import interact\n",
    "from IPython.display import clear_output\n",
    "\n",
    "import lstm\n",
    "\n",
    "np.set_printoptions(precision=5, suppress=True)"
   ]
  },
  {
   "cell_type": "code",
   "execution_count": 11,
   "metadata": {
    "collapsed": false
   },
   "outputs": [
    {
     "name": "stdout",
     "output_type": "stream",
     "text": [
      "LSTM Network version 0.3\n"
     ]
    }
   ],
   "source": [
    "X_DIM = 2\n",
    "H_DIM = 3\n",
    "Y_DIM = 1\n",
    "\n",
    "TIME_STEPS = 3\n",
    "\n",
    "net = lstm.LSTMNetwork(x_dim=X_DIM, \n",
    "                       h_dim=H_DIM, \n",
    "                       y_dim=Y_DIM, \n",
    "                       time_steps=TIME_STEPS, \n",
    "                       act=lstm.sigmoid, \n",
    "                       act_p=lstm.sigmoid_p)"
   ]
  },
  {
   "cell_type": "code",
   "execution_count": 12,
   "metadata": {
    "collapsed": false
   },
   "outputs": [
    {
     "data": {
      "text/plain": [
       "{'num1': array([ 0.,  1.,  0.,  0.,  1.]),\n",
       " 'num2': array([ 0.,  0.,  1.,  1.,  0.]),\n",
       " 'targ': array([ 0.,  1.,  1.,  1.,  1.])}"
      ]
     },
     "execution_count": 12,
     "metadata": {},
     "output_type": "execute_result"
    }
   ],
   "source": [
    "def data(n=10):\n",
    "    num1 = np.random.randint(0, 2, [n])\n",
    "    num2 = np.random.randint(0, 2, [n])\n",
    "    targ = np.zeros([n])\n",
    "    c = 0\n",
    "    for i in range(n):\n",
    "        d1 = num1[i]\n",
    "        d2 = num2[i]\n",
    "        s = d1 + d2 + c\n",
    "        p = 0\n",
    "        if s == 0:\n",
    "            p = 0\n",
    "            c = 0\n",
    "        elif s == 1:\n",
    "            p = 1\n",
    "            c = 0\n",
    "        elif s == 2:\n",
    "            p = 0\n",
    "            c = 1\n",
    "        elif s == 3:\n",
    "            p = 1\n",
    "            c = 1\n",
    "            \n",
    "        targ[i] = p\n",
    "        \n",
    "    return {'num1': num1.astype(np.float), 'num2': num2.astype(np.float), 'targ': targ}\n",
    "\n",
    "data(n=5)"
   ]
  },
  {
   "cell_type": "code",
   "execution_count": 13,
   "metadata": {
    "collapsed": false
   },
   "outputs": [
    {
     "name": "stdout",
     "output_type": "stream",
     "text": [
      "correct: 0.0%\n"
     ]
    }
   ],
   "source": [
    "def test(net, batch=10, n=10, debug=False):\n",
    "    wrong = 0\n",
    "    for b in range(batch):\n",
    "        d = data(n)\n",
    "        h = np.zeros([1, H_DIM])\n",
    "        c = np.zeros([1, H_DIM])\n",
    "        outs = []\n",
    "        for i in range(n):\n",
    "            net.ff([np.array([[d['num1'][i], d['num2'][i]]])], h, c)\n",
    "            out = net.outputs[0].h[0, 0]\n",
    "            outs.append(out)\n",
    "            t = d['targ'][i]\n",
    "            if abs(out - t) > .5:\n",
    "                wrong += 1\n",
    "                break\n",
    "        if debug:\n",
    "            print('targ: {}'.format(d['targ']))\n",
    "            print('out: {}'.format(outs))\n",
    "    print('correct: {}%'.format( (batch-wrong)/float(batch) * 100.0 ))\n",
    "            \n",
    "        \n",
    "test(net)"
   ]
  },
  {
   "cell_type": "code",
   "execution_count": 15,
   "metadata": {
    "collapsed": false
   },
   "outputs": [
    {
     "name": "stdout",
     "output_type": "stream",
     "text": [
      "80000\n",
      "correct: 32.0%\n"
     ]
    },
    {
     "ename": "KeyboardInterrupt",
     "evalue": "",
     "output_type": "error",
     "traceback": [
      "\u001b[0;31m---------------------------------------------------------------------------\u001b[0m",
      "\u001b[0;31mKeyboardInterrupt\u001b[0m                         Traceback (most recent call last)",
      "\u001b[0;32m<ipython-input-15-e6ab019f5315>\u001b[0m in \u001b[0;36m<module>\u001b[0;34m()\u001b[0m\n\u001b[1;32m      8\u001b[0m     \u001b[0mc0\u001b[0m \u001b[0;34m=\u001b[0m \u001b[0mnp\u001b[0m\u001b[0;34m.\u001b[0m\u001b[0mzeros\u001b[0m\u001b[0;34m(\u001b[0m\u001b[0;34m[\u001b[0m\u001b[0;36m1\u001b[0m\u001b[0;34m,\u001b[0m \u001b[0mH_DIM\u001b[0m\u001b[0;34m]\u001b[0m\u001b[0;34m)\u001b[0m\u001b[0;34m\u001b[0m\u001b[0m\n\u001b[1;32m      9\u001b[0m \u001b[0;34m\u001b[0m\u001b[0m\n\u001b[0;32m---> 10\u001b[0;31m     \u001b[0mnet\u001b[0m\u001b[0;34m.\u001b[0m\u001b[0mff\u001b[0m\u001b[0;34m(\u001b[0m\u001b[0mxs\u001b[0m\u001b[0;34m,\u001b[0m \u001b[0mh0\u001b[0m\u001b[0;34m,\u001b[0m \u001b[0mc0\u001b[0m\u001b[0;34m)\u001b[0m\u001b[0;34m\u001b[0m\u001b[0m\n\u001b[0m\u001b[1;32m     11\u001b[0m \u001b[0;34m\u001b[0m\u001b[0m\n\u001b[1;32m     12\u001b[0m     \u001b[0mout\u001b[0m \u001b[0;34m=\u001b[0m \u001b[0;34m[\u001b[0m\u001b[0mnet\u001b[0m\u001b[0;34m.\u001b[0m\u001b[0moutputs\u001b[0m\u001b[0;34m[\u001b[0m\u001b[0mt\u001b[0m\u001b[0;34m]\u001b[0m\u001b[0;34m.\u001b[0m\u001b[0mh\u001b[0m \u001b[0;32mfor\u001b[0m \u001b[0mt\u001b[0m \u001b[0;32min\u001b[0m \u001b[0mTS\u001b[0m\u001b[0;34m]\u001b[0m\u001b[0;34m\u001b[0m\u001b[0m\n",
      "\u001b[0;32m/Users/joncomo/research/ml/RNN/lstm/lstm.pyc\u001b[0m in \u001b[0;36mff\u001b[0;34m(self, xs, h0, c0)\u001b[0m\n\u001b[1;32m    123\u001b[0m             \u001b[0mc\u001b[0m \u001b[0;34m=\u001b[0m \u001b[0munit\u001b[0m\u001b[0;34m.\u001b[0m\u001b[0mc\u001b[0m\u001b[0;34m\u001b[0m\u001b[0m\n\u001b[1;32m    124\u001b[0m \u001b[0;34m\u001b[0m\u001b[0m\n\u001b[0;32m--> 125\u001b[0;31m             \u001b[0mself\u001b[0m\u001b[0;34m.\u001b[0m\u001b[0moutputs\u001b[0m\u001b[0;34m[\u001b[0m\u001b[0mi\u001b[0m\u001b[0;34m]\u001b[0m\u001b[0;34m.\u001b[0m\u001b[0mff\u001b[0m\u001b[0;34m(\u001b[0m\u001b[0mconcat\u001b[0m\u001b[0;34m(\u001b[0m\u001b[0;34m[\u001b[0m\u001b[0munit\u001b[0m\u001b[0;34m.\u001b[0m\u001b[0mh\u001b[0m\u001b[0;34m,\u001b[0m \u001b[0;34m[\u001b[0m\u001b[0;34m[\u001b[0m\u001b[0;36m1\u001b[0m\u001b[0;34m]\u001b[0m\u001b[0;34m]\u001b[0m\u001b[0;34m]\u001b[0m\u001b[0;34m)\u001b[0m\u001b[0;34m,\u001b[0m \u001b[0mself\u001b[0m\u001b[0;34m.\u001b[0m\u001b[0mW\u001b[0m\u001b[0;34m[\u001b[0m\u001b[0;34m'y'\u001b[0m\u001b[0;34m]\u001b[0m\u001b[0;34m)\u001b[0m\u001b[0;34m\u001b[0m\u001b[0m\n\u001b[0m\u001b[1;32m    126\u001b[0m \u001b[0;34m\u001b[0m\u001b[0m\n\u001b[1;32m    127\u001b[0m     \u001b[0;32mdef\u001b[0m \u001b[0mout\u001b[0m\u001b[0;34m(\u001b[0m\u001b[0mself\u001b[0m\u001b[0;34m,\u001b[0m \u001b[0mi\u001b[0m\u001b[0;34m)\u001b[0m\u001b[0;34m:\u001b[0m\u001b[0;34m\u001b[0m\u001b[0m\n",
      "\u001b[0;32m/Users/joncomo/research/ml/RNN/lstm/lstm.pyc\u001b[0m in \u001b[0;36mff\u001b[0;34m(self, x, W)\u001b[0m\n\u001b[1;32m     35\u001b[0m \u001b[0;34m\u001b[0m\u001b[0m\n\u001b[1;32m     36\u001b[0m     \u001b[0;32mdef\u001b[0m \u001b[0mff\u001b[0m\u001b[0;34m(\u001b[0m\u001b[0mself\u001b[0m\u001b[0;34m,\u001b[0m \u001b[0mx\u001b[0m\u001b[0;34m,\u001b[0m \u001b[0mW\u001b[0m\u001b[0;34m)\u001b[0m\u001b[0;34m:\u001b[0m\u001b[0;34m\u001b[0m\u001b[0m\n\u001b[0;32m---> 37\u001b[0;31m         \u001b[0mself\u001b[0m\u001b[0;34m.\u001b[0m\u001b[0mx\u001b[0m \u001b[0;34m=\u001b[0m \u001b[0mx\u001b[0m\u001b[0;34m\u001b[0m\u001b[0m\n\u001b[0m\u001b[1;32m     38\u001b[0m         \u001b[0mself\u001b[0m\u001b[0;34m.\u001b[0m\u001b[0mz\u001b[0m \u001b[0;34m=\u001b[0m \u001b[0mself\u001b[0m\u001b[0;34m.\u001b[0m\u001b[0mx\u001b[0m\u001b[0;34m.\u001b[0m\u001b[0mdot\u001b[0m\u001b[0;34m(\u001b[0m\u001b[0mW\u001b[0m\u001b[0;34m)\u001b[0m\u001b[0;34m\u001b[0m\u001b[0m\n\u001b[1;32m     39\u001b[0m         \u001b[0mself\u001b[0m\u001b[0;34m.\u001b[0m\u001b[0mh\u001b[0m \u001b[0;34m=\u001b[0m \u001b[0mself\u001b[0m\u001b[0;34m.\u001b[0m\u001b[0mact\u001b[0m\u001b[0;34m(\u001b[0m\u001b[0mself\u001b[0m\u001b[0;34m.\u001b[0m\u001b[0mz\u001b[0m\u001b[0;34m)\u001b[0m \u001b[0;32mif\u001b[0m \u001b[0mself\u001b[0m\u001b[0;34m.\u001b[0m\u001b[0mact\u001b[0m \u001b[0;32melse\u001b[0m \u001b[0mself\u001b[0m\u001b[0;34m.\u001b[0m\u001b[0mz\u001b[0m\u001b[0;34m\u001b[0m\u001b[0m\n",
      "\u001b[0;31mKeyboardInterrupt\u001b[0m: "
     ]
    }
   ],
   "source": [
    "TS = range(TIME_STEPS)\n",
    "\n",
    "for i in range(100000):\n",
    "    d = data(n=TIME_STEPS)\n",
    "    xs = [np.array([[d['num1'][t], d['num2'][t]]]) for t in TS]\n",
    "\n",
    "    h0 = np.zeros([1, H_DIM])\n",
    "    c0 = np.zeros([1, H_DIM])\n",
    "    \n",
    "    net.ff(xs, h0, c0)\n",
    "    \n",
    "    out = [net.outputs[t].h for t in TS]\n",
    "    dys = [out[t] - d['targ'][t] for t in TS]\n",
    "        \n",
    "    net.bp(dys, learning_rate=0.01)\n",
    "    \n",
    "    if i % 10000 == 0:\n",
    "        clear_output(wait=True)\n",
    "        print(i)\n",
    "        test(net, batch=100, n=5)\n",
    "        for key in net.W:\n",
    "            if np.max(np.abs(net.W[key])) > 50.0:\n",
    "                print('weights out of control')\n",
    "                break"
   ]
  },
  {
   "cell_type": "code",
   "execution_count": 8,
   "metadata": {
    "collapsed": false
   },
   "outputs": [
    {
     "name": "stdout",
     "output_type": "stream",
     "text": [
      "i\n",
      "[[-0.00001 -0.00143  0.00105]\n",
      " [-0.00005 -0.01349  0.0029 ]\n",
      " [ 0.00003  0.0143  -0.0002 ]\n",
      " [ 0.00019  0.03307 -0.01427]\n",
      " [ 0.00012  0.0058  -0.01378]\n",
      " [ 0.00019  0.03307 -0.01427]]\n",
      "y\n",
      "[[-0.00648]\n",
      " [-0.07301]\n",
      " [ 0.08577]\n",
      " [ 0.16082]]\n",
      "c\n",
      "[[ 0.00005  0.00284  0.00201]\n",
      " [ 0.0002   0.01211  0.02267]\n",
      " [-0.00011 -0.0068  -0.02556]\n",
      " [-0.00076 -0.04472 -0.0518 ]\n",
      " [-0.00053 -0.03153 -0.00313]\n",
      " [-0.00076 -0.04472 -0.0518 ]]\n",
      "o\n",
      "[[-0.00061 -0.00546  0.00424]\n",
      " [-0.00324 -0.01879  0.0204 ]\n",
      " [ 0.00241  0.0065  -0.0136 ]\n",
      " [ 0.01049  0.07953 -0.07002]\n",
      " [ 0.00586  0.06666 -0.04379]\n",
      " [ 0.01049  0.07953 -0.07002]]\n",
      "f\n",
      "[[-0.00002 -0.00091  0.00048]\n",
      " [-0.0001  -0.00649  0.00601]\n",
      " [ 0.00006  0.00603 -0.00697]\n",
      " [ 0.00037  0.01804 -0.01325]\n",
      " [ 0.00025  0.00651  0.00002]\n",
      " [ 0.00037  0.01804 -0.01325]]\n"
     ]
    }
   ],
   "source": [
    "for key in net.grad:\n",
    "    print(key)\n",
    "    print(net.grad[key])"
   ]
  },
  {
   "cell_type": "code",
   "execution_count": 9,
   "metadata": {
    "collapsed": false
   },
   "outputs": [
    {
     "name": "stdout",
     "output_type": "stream",
     "text": [
      "i\n",
      "[[-0.66 -0.36 -0.3 ]\n",
      " [-0.41 -0.64 -0.74]\n",
      " [-0.69 -1.15  1.88]\n",
      " [-0.13  0.45  4.77]\n",
      " [ 0.84  2.35 -0.61]\n",
      " [ 2.07  0.02 -2.12]]\n",
      "y\n",
      "[[-1.8 ]\n",
      " [-3.46]\n",
      " [-3.2 ]\n",
      " [ 0.15]]\n",
      "c\n",
      "[[-1.63 -1.19  0.53]\n",
      " [-1.06 -0.3  -0.16]\n",
      " [-1.9  -2.12  0.81]\n",
      " [-0.74 -0.7   0.33]\n",
      " [-1.17 -1.    2.6 ]\n",
      " [ 0.13  0.19 -0.33]]\n",
      "o\n",
      "[[-1.36 -0.35 -1.38]\n",
      " [ 0.74 -0.63  0.74]\n",
      " [-2.01  1.32 -1.79]\n",
      " [-2.85  1.47 -1.27]\n",
      " [-1.46 -0.39 -1.19]\n",
      " [ 1.26 -0.66  3.54]]\n",
      "f\n",
      "[[-0.07  0.77 -0.31]\n",
      " [ 0.42 -0.95  0.65]\n",
      " [ 0.16 -0.36 -0.1 ]\n",
      " [ 1.17 -0.35  2.05]\n",
      " [-0.54  0.67  2.82]\n",
      " [ 0.51 -1.85 -1.38]]\n"
     ]
    }
   ],
   "source": [
    "for key in net.W:\n",
    "    print(key)\n",
    "    print(np.round(net.W[key], 2))"
   ]
  },
  {
   "cell_type": "code",
   "execution_count": 10,
   "metadata": {
    "collapsed": false
   },
   "outputs": [
    {
     "name": "stdout",
     "output_type": "stream",
     "text": [
      "targ: [ 1.  0.  1.  0.  0.]\n",
      "out: [0.97847817931059511, -0.012380963869431161, 0.97847817931059511, -0.024924521375988551, 0.97847817931059511]\n",
      "correct: 0.0%\n"
     ]
    }
   ],
   "source": [
    "test(net, batch=1, n=5, debug=True)"
   ]
  },
  {
   "cell_type": "code",
   "execution_count": null,
   "metadata": {
    "collapsed": true
   },
   "outputs": [],
   "source": []
  }
 ],
 "metadata": {
  "kernelspec": {
   "display_name": "Python 2",
   "language": "python",
   "name": "python2"
  },
  "language_info": {
   "codemirror_mode": {
    "name": "ipython",
    "version": 2
   },
   "file_extension": ".py",
   "mimetype": "text/x-python",
   "name": "python",
   "nbconvert_exporter": "python",
   "pygments_lexer": "ipython2",
   "version": "2.7.11"
  }
 },
 "nbformat": 4,
 "nbformat_minor": 0
}
