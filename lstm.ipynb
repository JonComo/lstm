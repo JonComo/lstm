{
 "cells": [
  {
   "cell_type": "code",
   "execution_count": 5,
   "metadata": {
    "collapsed": false
   },
   "outputs": [],
   "source": [
    "%matplotlib inline"
   ]
  },
  {
   "cell_type": "code",
   "execution_count": 6,
   "metadata": {
    "collapsed": true
   },
   "outputs": [],
   "source": [
    "from matplotlib import pyplot as plt\n",
    "import numpy as np\n",
    "from ipywidgets import interact\n",
    "from IPython.display import clear_output\n",
    "\n",
    "np.set_printoptions(suppress=True)\n",
    "\n",
    "import lstm"
   ]
  },
  {
   "cell_type": "code",
   "execution_count": 9,
   "metadata": {
    "collapsed": false
   },
   "outputs": [
    {
     "name": "stdout",
     "output_type": "stream",
     "text": [
      "LSTM Network version 0.3\n"
     ]
    }
   ],
   "source": [
    "X_DIM = 2\n",
    "H_DIM = 3\n",
    "Y_DIM = 1\n",
    "TIME_STEPS = 2\n",
    "TS = range(TIME_STEPS)\n",
    "\n",
    "net = lstm.LSTMNetwork(x_dim=X_DIM, \n",
    "                       h_dim=H_DIM,\n",
    "                       y_dim=Y_DIM,\n",
    "                       time_steps=TIME_STEPS, \n",
    "                       act=lstm.sigmoid, \n",
    "                       act_p=lstm.sigmoid_p)\n",
    "\n",
    "\n",
    "xs = [np.ones([1, X_DIM]) for t in TS]\n",
    "ts = [.5 for t in TS]\n",
    "\n",
    "state = np.ones([1, H_DIM])\n",
    "\n",
    "def cost_fn(net):\n",
    "    return 0.5 * np.sum([(net.out(t) - ts[t])**2.0 for t in TS])"
   ]
  },
  {
   "cell_type": "code",
   "execution_count": 12,
   "metadata": {
    "collapsed": false
   },
   "outputs": [
    {
     "name": "stdout",
     "output_type": "stream",
     "text": [
      "net output: [array([[ 0.49011056]]), array([[ 0.54458724]])]\n",
      "dys: [array([[-0.00988944]]), array([[ 0.04458724]])]\n",
      "analytic grad o:\n",
      "[[-0.00001476  0.00034163  0.00009647]\n",
      " [ 0.00001056  0.00005411  0.00008373]\n",
      " [-0.00000949  0.00028179  0.00009382]\n",
      " [ 0.00002954 -0.00016141  0.00007419]\n",
      " [ 0.00002954 -0.00016141  0.00007419]\n",
      " [ 0.00002954 -0.00016141  0.00007419]]\n",
      "numerical grad o:\n",
      "[[-0.00001476  0.00034163  0.00009647]\n",
      " [ 0.00001056  0.00005411  0.00008373]\n",
      " [-0.00000949  0.00028179  0.00009382]\n",
      " [ 0.00002954 -0.00016141  0.00007419]\n",
      " [ 0.00002954 -0.00016141  0.00007419]\n",
      " [ 0.00002954 -0.00016141  0.00007419]]\n",
      "\n"
     ]
    }
   ],
   "source": [
    "key = 'o'\n",
    "\n",
    "\n",
    "net.ff(xs, state, state)\n",
    "print('net output: {}'.format([net.out(t) for t in TS]))\n",
    "\n",
    "dys = [net.out(t) - ts[t] for t in TS]\n",
    "print('dys: {}'.format(dys))\n",
    "\n",
    "net.bp(dys, learning_rate=0.0)\n",
    "print('analytic grad {}:\\n{}'.format(key, net.grad[key]))\n",
    "\n",
    "cost = cost_fn(net)\n",
    "\n",
    "W = net.W[key].copy()\n",
    "g = np.zeros_like(net.W[key])\n",
    "\n",
    "h = 0.00001\n",
    "for r in range(W.shape[0]):\n",
    "    for c in range(W.shape[1]):\n",
    "        net.W[key] = W.copy()\n",
    "        net.W[key][r, c] += h\n",
    "\n",
    "        net.ff(xs, state, state)\n",
    "\n",
    "        cost2 = cost_fn(net)\n",
    "        \n",
    "        diff = (cost2 - cost)/h\n",
    "        g[r, c] = diff\n",
    "\n",
    "print('numerical grad {}:\\n{}\\n'.format(key, g))"
   ]
  },
  {
   "cell_type": "code",
   "execution_count": null,
   "metadata": {
    "collapsed": true
   },
   "outputs": [],
   "source": []
  }
 ],
 "metadata": {
  "kernelspec": {
   "display_name": "Python 2",
   "language": "python",
   "name": "python2"
  },
  "language_info": {
   "codemirror_mode": {
    "name": "ipython",
    "version": 2
   },
   "file_extension": ".py",
   "mimetype": "text/x-python",
   "name": "python",
   "nbconvert_exporter": "python",
   "pygments_lexer": "ipython2",
   "version": "2.7.11"
  }
 },
 "nbformat": 4,
 "nbformat_minor": 0
}
