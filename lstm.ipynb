{
 "cells": [
  {
   "cell_type": "code",
   "execution_count": 1,
   "metadata": {
    "collapsed": true
   },
   "outputs": [],
   "source": [
    "%matplotlib inline"
   ]
  },
  {
   "cell_type": "code",
   "execution_count": 2,
   "metadata": {
    "collapsed": true
   },
   "outputs": [],
   "source": [
    "from matplotlib import pyplot as plt\n",
    "import numpy as np\n",
    "from ipywidgets import interact\n",
    "from IPython.display import clear_output\n",
    "\n",
    "import lstm"
   ]
  },
  {
   "cell_type": "code",
   "execution_count": 3,
   "metadata": {
    "collapsed": false
   },
   "outputs": [
    {
     "name": "stdout",
     "output_type": "stream",
     "text": [
      "LSTM Network version 0.2\n"
     ]
    }
   ],
   "source": [
    "net = lstm.LSTMNetwork(x_dim=2, \n",
    "                       h_dim=3,\n",
    "                       y_dim=1,\n",
    "                       c_dim=3, \n",
    "                       time_steps=3, \n",
    "                       act=lstm.sigmoid, \n",
    "                       act_p=lstm.sigmoid_p)"
   ]
  },
  {
   "cell_type": "code",
   "execution_count": 171,
   "metadata": {
    "collapsed": false
   },
   "outputs": [
    {
     "name": "stdout",
     "output_type": "stream",
     "text": [
      "net output: [array([[ 0.79677803]]), array([[ 0.79681463]]), array([[ 0.79683476]])]\n"
     ]
    }
   ],
   "source": [
    "xs = [np.array([[1.0, 1.0]]) for t in range(net.time_steps)]\n",
    "\n",
    "net.ff(xs, np.zeros([1, net.h_dim]), np.zeros([1, net.c_dim]))\n",
    "\n",
    "out = [net.outputs[i].h for i in net.outputs]\n",
    "print('net output: {}'.format(out))\n",
    "\n",
    "dys = [out[t] - .8 for t in range(net.time_steps)]\n",
    "net.bp(dys, learning_rate=0.1)"
   ]
  },
  {
   "cell_type": "code",
   "execution_count": 5,
   "metadata": {
    "collapsed": false
   },
   "outputs": [
    {
     "data": {
      "text/plain": [
       "{'c': array([[ -3.87398628e-05,  -3.05255135e-05,  -9.50243588e-05],\n",
       "        [  2.73226920e-05,   2.15538844e-05,   6.70108411e-05],\n",
       "        [ -1.85749748e-04,  -1.46465877e-04,  -4.55587060e-04],\n",
       "        [ -8.27740421e-03,  -6.40989379e-03,  -2.04032705e-02],\n",
       "        [ -8.27740421e-03,  -6.40989379e-03,  -2.04032705e-02],\n",
       "        [ -8.27740421e-03,  -6.40989379e-03,  -2.04032705e-02]]),\n",
       " 'f': array([[ -1.31399196e-06,   7.42416133e-07,  -1.32895904e-05],\n",
       "        [  9.36330217e-07,  -5.31113554e-07,   9.48505941e-06],\n",
       "        [ -6.34009073e-06,   3.59082556e-06,  -6.41857123e-05],\n",
       "        [ -1.56942495e-04,   8.74254099e-05,  -1.57823363e-03],\n",
       "        [ -1.56942495e-04,   8.74254099e-05,  -1.57823363e-03],\n",
       "        [ -1.56942495e-04,   8.74254099e-05,  -1.57823363e-03]]),\n",
       " 'i': array([[ -2.00452187e-06,   1.38954869e-06,  -1.95861746e-05],\n",
       "        [  1.41230900e-06,  -9.82839485e-07,   1.38163272e-05],\n",
       "        [ -9.60524987e-06,   6.67425504e-06,  -9.39219497e-05],\n",
       "        [ -4.44719647e-04,   2.73909628e-04,  -4.15770059e-03],\n",
       "        [ -4.44719647e-04,   2.73909628e-04,  -4.15770059e-03],\n",
       "        [ -4.44719647e-04,   2.73909628e-04,  -4.15770059e-03]]),\n",
       " 'o': array([[ -2.81442039e-06,   1.67882181e-06,  -2.86369329e-05],\n",
       "        [  2.01409310e-06,  -1.20521904e-06,   2.05247244e-05],\n",
       "        [ -1.36153323e-05,   8.13739298e-06,  -1.38666298e-04],\n",
       "        [ -4.38519336e-04,   2.48427520e-04,  -4.34087726e-03],\n",
       "        [ -4.38519336e-04,   2.48427520e-04,  -4.34087726e-03],\n",
       "        [ -4.38519336e-04,   2.48427520e-04,  -4.34087726e-03]]),\n",
       " 'y': array([[ 0.00851074],\n",
       "        [-0.00640155],\n",
       "        [ 0.04245193],\n",
       "        [ 0.90293857]])}"
      ]
     },
     "execution_count": 5,
     "metadata": {},
     "output_type": "execute_result"
    }
   ],
   "source": [
    "net.grad"
   ]
  },
  {
   "cell_type": "code",
   "execution_count": null,
   "metadata": {
    "collapsed": true
   },
   "outputs": [],
   "source": []
  }
 ],
 "metadata": {
  "kernelspec": {
   "display_name": "Python 2",
   "language": "python",
   "name": "python2"
  },
  "language_info": {
   "codemirror_mode": {
    "name": "ipython",
    "version": 2
   },
   "file_extension": ".py",
   "mimetype": "text/x-python",
   "name": "python",
   "nbconvert_exporter": "python",
   "pygments_lexer": "ipython2",
   "version": "2.7.11"
  }
 },
 "nbformat": 4,
 "nbformat_minor": 0
}
